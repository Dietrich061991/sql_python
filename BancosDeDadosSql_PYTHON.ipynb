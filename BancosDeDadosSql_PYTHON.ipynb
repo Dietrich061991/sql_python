{
  "nbformat": 4,
  "nbformat_minor": 0,
  "metadata": {
    "colab": {
      "name": "BancosDeDadosSql_PYTHON",
      "provenance": []
    },
    "kernelspec": {
      "name": "python3",
      "display_name": "Python 3"
    }
  },
  "cells": [
    {
      "cell_type": "markdown",
      "metadata": {
        "id": "FfYYmbNuWQhY",
        "colab_type": "text"
      },
      "source": [
        "**Acesso a Banco de dados SQL**"
      ]
    },
    {
      "cell_type": "markdown",
      "metadata": {
        "id": "aonOb6ukWpRT",
        "colab_type": "text"
      },
      "source": [
        "O Python não possui acesso nativo a bancos de dados SQL em sua biblioteca padrão, somente ao Berkley database engine(BDB), mas define uma API padrão que os drivers de acesso a esses bancos de dados devem seguir, assim qualquer que seja o banco de dados os procedimentos são parecidos.\n",
        "\n",
        "Os quatro principais bancos de dados livres que podem ser acessados do Python são o SQLite, o MySQL, o PostgreSQL e o Interbase/Firebird.\n",
        "\n",
        "Para cada um inicie importando os drivers:"
      ]
    },
    {
      "cell_type": "markdown",
      "metadata": {
        "id": "OOE0RP8BXRw1",
        "colab_type": "text"
      },
      "source": [
        "# **Importando as bibliotecas de connetion**"
      ]
    },
    {
      "cell_type": "code",
      "metadata": {
        "id": "MoNCMvcvV2b3",
        "colab_type": "code",
        "colab": {}
      },
      "source": [
        "import MySQLdb # para o MySQL\n",
        "import sqlite  # para o SQLite\n",
        "from pyPgSQL import PgSQL # para o PostgreSQL\n",
        "import kinterbasdb # para Interbase / Firebird\n",
        "import pymssql  #para o MS-SQL. (existem outros módulos - ADOdb for Python/PHP)\n",
        "import cx_Oracle #para o Oracle"
      ],
      "execution_count": null,
      "outputs": []
    },
    {
      "cell_type": "markdown",
      "metadata": {
        "id": "ikwtOw5dW_Zn",
        "colab_type": "text"
      },
      "source": [
        "**Nota:** Não faça from driver import * porque isso fará com que o Python importe muito lixo para o namespace padrão, além disso, isso impossibilita o uso de mais de um driver ao mesmo tempo. "
      ]
    },
    {
      "cell_type": "markdown",
      "metadata": {
        "id": "mbLql40UW1lK",
        "colab_type": "text"
      },
      "source": [
        "# **Conexão**"
      ]
    },
    {
      "cell_type": "markdown",
      "metadata": {
        "id": "80paWWfiYI5x",
        "colab_type": "text"
      },
      "source": [
        "Aqui os estilos variam muito pouco, com excessão do SQLite, que acessa um arquivo local onde está o banco de dados"
      ]
    },
    {
      "cell_type": "markdown",
      "metadata": {
        "id": "HyAMh0-lYUcC",
        "colab_type": "text"
      },
      "source": [
        "**Para o MySQL**"
      ]
    },
    {
      "cell_type": "code",
      "metadata": {
        "id": "hOSS_PIhYIAO",
        "colab_type": "code",
        "colab": {}
      },
      "source": [
        "con = MySQLdb.connect('servidor', 'usuario', 'senha')\n",
        "con.select_db('banco de dados')"
      ],
      "execution_count": null,
      "outputs": []
    },
    {
      "cell_type": "markdown",
      "metadata": {
        "id": "jOpFiF0jYslx",
        "colab_type": "text"
      },
      "source": [
        "**Para o SQLite:**"
      ]
    },
    {
      "cell_type": "code",
      "metadata": {
        "id": "83_P1_tEY3EG",
        "colab_type": "code",
        "colab": {}
      },
      "source": [
        "con = sqlite.connect('nome do arquivo', mode=775) # no futuro\n",
        "                                                  # mode definirá o modo\n",
        "                                                  # de trabalho"
      ],
      "execution_count": null,
      "outputs": []
    },
    {
      "cell_type": "markdown",
      "metadata": {
        "id": "mCIg73GKY49e",
        "colab_type": "text"
      },
      "source": [
        "**Para o PostgreSQL:**"
      ]
    },
    {
      "cell_type": "code",
      "metadata": {
        "id": "ggDRlZ3gZDKb",
        "colab_type": "code",
        "colab": {}
      },
      "source": [
        "con = PgSQL.connect(host='servidor',\n",
        "                    database='banco de dados',\n",
        "                    user='usuario',\n",
        "                    password='senha')"
      ],
      "execution_count": null,
      "outputs": []
    },
    {
      "cell_type": "markdown",
      "metadata": {
        "id": "MlFO1juKZP3r",
        "colab_type": "text"
      },
      "source": [
        "**Para o Interbase / Firebird:**"
      ]
    },
    {
      "cell_type": "code",
      "metadata": {
        "id": "1S8xT-60ZSFy",
        "colab_type": "code",
        "colab": {}
      },
      "source": [
        "con = kinterbasdb.connect(dsn='servidor:/path/arquivo.fdb',\n",
        "                          user='usuario',\n",
        "                          password='senha')"
      ],
      "execution_count": null,
      "outputs": []
    },
    {
      "cell_type": "markdown",
      "metadata": {
        "id": "3dldiFNXZdrh",
        "colab_type": "text"
      },
      "source": [
        "**Para o MS-SQL**"
      ]
    },
    {
      "cell_type": "code",
      "metadata": {
        "id": "nmuXMnSqZhak",
        "colab_type": "code",
        "colab": {}
      },
      "source": [
        "con = pymssql.connect(host = 'servidor',\n",
        "                      user = 'usuario',\n",
        "                      password = 'senha',\n",
        "                      database = 'base de dados')"
      ],
      "execution_count": null,
      "outputs": []
    },
    {
      "cell_type": "markdown",
      "metadata": {
        "id": "rnV0eF3SZnQl",
        "colab_type": "text"
      },
      "source": [
        "**Para o Oracle**"
      ]
    },
    {
      "cell_type": "code",
      "metadata": {
        "id": "wI3NilrpZvDe",
        "colab_type": "code",
        "colab": {}
      },
      "source": [
        "con = cx_Oracle.connect('usuario/senha@tnsname')"
      ],
      "execution_count": null,
      "outputs": []
    },
    {
      "cell_type": "markdown",
      "metadata": {
        "id": "DsSWQIvhZ2_Y",
        "colab_type": "text"
      },
      "source": [
        "# **Uso**"
      ]
    },
    {
      "cell_type": "markdown",
      "metadata": {
        "id": "F0x1YOfjafaG",
        "colab_type": "text"
      },
      "source": [
        "**Daqui pra frente todos os métodos da API são iguais.**"
      ]
    },
    {
      "cell_type": "markdown",
      "metadata": {
        "id": "X4Hle3-Za5Tc",
        "colab_type": "text"
      },
      "source": [
        "Obtendo uma transação (cursor)"
      ]
    },
    {
      "cell_type": "code",
      "metadata": {
        "id": "iy5JQvTxai1u",
        "colab_type": "code",
        "colab": {}
      },
      "source": [
        "cursor = con.cursor()"
      ],
      "execution_count": null,
      "outputs": []
    },
    {
      "cell_type": "markdown",
      "metadata": {
        "id": "RkkgSSZIbRn5",
        "colab_type": "text"
      },
      "source": [
        "**Executando um sql**"
      ]
    },
    {
      "cell_type": "code",
      "metadata": {
        "id": "dXHpqxiZbbQ6",
        "colab_type": "code",
        "colab": {}
      },
      "source": [
        "cursor.execute('ALGUM SQL')"
      ],
      "execution_count": null,
      "outputs": []
    },
    {
      "cell_type": "markdown",
      "metadata": {
        "id": "oYHlqFNKbv0z",
        "colab_type": "text"
      },
      "source": [
        "É importante notar que para colocar parâmetros em sql a melhor forma é fazer de acordo com a API python, isto é, da seguinte forma:"
      ]
    },
    {
      "cell_type": "code",
      "metadata": {
        "id": "L7UpF34Kb5Jc",
        "colab_type": "code",
        "colab": {}
      },
      "source": [
        "cursor.execute('INSERT INTO TABELA (CAMPO1, CAMPO2, CAMPO3) VALUES (?,?,?)', (valor1, valor2, valor3))"
      ],
      "execution_count": null,
      "outputs": []
    },
    {
      "cell_type": "markdown",
      "metadata": {
        "id": "mDv7TzVEcC_9",
        "colab_type": "text"
      },
      "source": [
        "As variáveis **valor1, valor2 e valor3** devem ser de um tipo **compatível** com a coluna correspondente do **banco no sql**. Isso porque ao passar parâmetros para ao sql dessa forma, você estará deixando a cargo do módulo de conexão ao seu banco o tratamento dos valores. Por exemplo, se valor1 for uma string, o módulo automaticamente colocará o valor entre aspas no lugar de ?. Se valor2 for uma data (datetime.datetime), o módulo convertela-á para o formato do banco. Isso é útil também para evitar sql injections.\n",
        "\n",
        "Note também que usamos o caracter ? para representar o lugar onde um valor deve ser colocado pelo cursor.execute(). Esse caracter depende do módulo que você utilizar para conectar ao banco de dados, e essa propriedade chama-se paramstyle. Verifique este item na documentação do módulo ao começar a utlizá-lo."
      ]
    },
    {
      "cell_type": "markdown",
      "metadata": {
        "id": "QYbSjDqUdGlE",
        "colab_type": "text"
      },
      "source": [
        "**Salvando as alterações**"
      ]
    },
    {
      "cell_type": "markdown",
      "metadata": {
        "id": "SReCwsrHdXoC",
        "colab_type": "text"
      },
      "source": [
        "Depois de fazer um insert, update, ou delete, deveremos chamar o método commit() da conexão, para que as mudanças tenham efeito no banco."
      ]
    },
    {
      "cell_type": "code",
      "metadata": {
        "id": "tus1VhRGdp53",
        "colab_type": "code",
        "colab": {}
      },
      "source": [
        "cursor.execute('INSERT INTO TABELA (CAMPO1, CAMPO2, CAMPO3) VALUES (?,?,?)', (valor1, valor2, valor3))\n",
        "con.commit()"
      ],
      "execution_count": null,
      "outputs": []
    },
    {
      "cell_type": "markdown",
      "metadata": {
        "id": "r5RKpMjteDQA",
        "colab_type": "text"
      },
      "source": [
        "**Obtendo o resultado**"
      ]
    },
    {
      "cell_type": "code",
      "metadata": {
        "id": "SSoJmT7pd64Y",
        "colab_type": "code",
        "colab": {}
      },
      "source": [
        "rs = cursor.fetchone() # busca uma linha ou;\n",
        "rs = cursor.fetchall() # busca todas as linhas ou;\n",
        "rs = cursor.dictfetchall() # busca todas as linhas,\n",
        "                           # cada linha tem um dicionário\n",
        "                           # com os nomes dos campos"
      ],
      "execution_count": null,
      "outputs": []
    },
    {
      "cell_type": "markdown",
      "metadata": {
        "id": "_zbDHTKveI_h",
        "colab_type": "text"
      },
      "source": [
        "O KInterbasDB (Interbase/Firebird) não possui suporte para o método:  dictfetchall() \n",
        "\n",
        "O MS-SQL também não possuí suporte para o método:  dictfetchall() \n",
        "\n",
        "E no resultado estarão os campos:"
      ]
    },
    {
      "cell_type": "code",
      "metadata": {
        "id": "0_N3SzEiefZR",
        "colab_type": "code",
        "colab": {}
      },
      "source": [
        "print(rs[0]) # valor da primeira coluna."
      ],
      "execution_count": null,
      "outputs": []
    },
    {
      "cell_type": "markdown",
      "metadata": {
        "id": "9Eo4lDHjewLT",
        "colab_type": "text"
      },
      "source": [
        "Alternativamente você pode usar o cursor como um iterator:"
      ]
    },
    {
      "cell_type": "code",
      "metadata": {
        "id": "kKheKB_TeyHI",
        "colab_type": "code",
        "colab": {}
      },
      "source": [
        "for linha in cursor:\n",
        "    print linha[0] # valor da primeira coluna\n"
      ],
      "execution_count": null,
      "outputs": []
    },
    {
      "cell_type": "markdown",
      "metadata": {
        "id": "scap_Qp-fY3_",
        "colab_type": "text"
      },
      "source": [
        "Notas a respeito do Banco de dados\n",
        "**SQLite:** Eu uso pra quase tudo, pelo menos para aquilo que não precise ser partilhado em rede. É rapido, simples, não depende de servidor (já que o seu programa fica responsável pelo gerenciamento do banco de dados). Não serve para nada com intenções mais sérias já que não funciona em rede (a não ser que se partilhe os arquivos e acesse-o a partir daí, mas ele não é multiusuário).\n",
        "\n",
        "**MySQL:** É o meu preferido. Fácil de instalar (principalmente no windows), fácil de gerenciar e bastante rápido. É bastante eficiente e é o mais utilizado na internet em sites dinâmicos.\n",
        "\n",
        "**PostgreSQL:** É mais difícil de instalar e configurar, o driver para Python é dificil de compilar e tem padrões esquisitos (Eu compilei a partir dos fontes, mesmo assim o driver não encontrava as bibliotecas necessárias para a compilação). Eu pessoalmente não sei porque alguem usa isso, mas.... Nos testes que eu vi é o unico que tem condições de competir com criaturas como o Oracle. Existem diversos drivers para PostgreSQL e Python, os dois melhores são pyPgSQL tratado no artido e ainda psycopg, IMHO o melhor disparado. Os comentários acima não se aplicam ao driver do psycopg, que é muito fácil de instalar, rápido e estável.\n",
        "\n",
        "**Interbase/Firebird:** Fácil de instalar no Microsoft Windows a partir dos binários, porém, compilar a partir dos fontes não é tão fácil assim. O banco é bastante robusto, e está em pé de igualdade com o PostgreSQL em termos de recursos. Muito utilizado em Borland Delphi. Os arquivos de instalação podem ser encontrados aqui.\n",
        "\n",
        "**MS-SQL:** BD comercial da Microsoft, fácil configuração e tudo na mão através da Interface gráfica. Quanto a performace não tenho uma base de comparação em produção (ainda). Mas ele atende as nossas necessidades ;)."
      ]
    }
  ]
}